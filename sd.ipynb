{
 "cells": [
  {
   "cell_type": "code",
   "execution_count": 1,
   "metadata": {},
   "outputs": [],
   "source": [
    "# %load sd.py\n",
    "# %%\n",
    "import pyperclip\n",
    "import random\n",
    "\n",
    "# %%\n",
    "def parse_string(string):\n",
    "    items = string.split(',')\n",
    "    result = []\n",
    "    for item in items:\n",
    "        item = item.strip()\n",
    "        if item.startswith('(') and item.endswith(')'):\n",
    "            item = item[1:-1].split(':')[0]\n",
    "        elif item.startswith('[') and item.endswith(']'):\n",
    "            item = item[1:-1].split(':')[0]\n",
    "        result.append(item)\n",
    "    return result\n",
    "\n",
    "\n",
    "def add_weights(strings,min=0.001, max=1.400):\n",
    "    result = []\n",
    "    for string in strings:\n",
    "        weight = random.uniform(min, max)\n",
    "        result.append(\"(\" + string + \":\" + str(round(weight, 2)) + \")\")\n",
    "    return result\n",
    "\n",
    "def remove_weights(input_string):\n",
    "    items = input_string.split(',')\n",
    "    result = []\n",
    "    for item in items:\n",
    "        if '(' in item or '[' in item:\n",
    "            item = item.strip().strip('()[]')\n",
    "            result.append(item.split(\":\")[0])\n",
    "        else:\n",
    "            result.append(item.strip())\n",
    "    return result\n",
    "\n",
    "\n",
    "# %%\n",
    "input = pyperclip.paste()\n",
    "stripped = remove_weights(input)\n",
    "pyperclip.copy(\",\".join(stripped))\n",
    "\n",
    "# %%\n",
    "input = pyperclip.paste()\n",
    "randomized = add_weights(parse_string(input), min=0.001)\n",
    "result = \",\".join(randomized)\n",
    "pyperclip.copy(result)\n",
    "result\n",
    "\n",
    "# %%\n",
    "\n",
    "\n",
    "\n"
   ]
  },
  {
   "cell_type": "code",
   "execution_count": 7,
   "metadata": {},
   "outputs": [],
   "source": [
    "def parse_string(string):\n",
    "    items = string.split(',')\n",
    "    result = []\n",
    "    for item in items:\n",
    "        item = item.strip()\n",
    "        if item.startswith('(') and item.endswith(')'):\n",
    "            item = item[1:-1].split(':')[0]\n",
    "        elif item.startswith('[') and item.endswith(']'):\n",
    "            item = item[1:-1].split(':')[0]\n",
    "        result.append(item)\n",
    "    return result\n",
    "\n",
    "\n",
    "def add_weights(strings,min=0.001, max=1.400):\n",
    "    result = []\n",
    "    for string in strings:\n",
    "        weight = random.uniform(min, max)\n",
    "        result.append(\"(\" + string + \":\" + str(round(weight, 2)) + \")\")\n",
    "    return result\n",
    "\n",
    "def remove_weights(input_string):\n",
    "    items = input_string.split(',')\n",
    "    result = []\n",
    "    for item in items:\n",
    "        if '(' in item or '[' in item:\n",
    "            item = item.strip().strip('()[]')\n",
    "            result.append(item.split(\":\")[0])\n",
    "        else:\n",
    "            result.append(item.strip())\n",
    "    return result\n"
   ]
  },
  {
   "cell_type": "code",
   "execution_count": 5,
   "metadata": {},
   "outputs": [],
   "source": [
    "input = pyperclip.paste()\n",
    "stripped = remove_weights(input)\n",
    "pyperclip.copy(\",\".join(stripped))"
   ]
  },
  {
   "cell_type": "code",
   "execution_count": 4,
   "metadata": {},
   "outputs": [
    {
     "data": {
      "text/plain": [
       "'(import pyperclip:0.53)'"
      ]
     },
     "execution_count": 4,
     "metadata": {},
     "output_type": "execute_result"
    }
   ],
   "source": [
    "input = pyperclip.paste()\n",
    "randomized = add_weights(parse_string(input), min=0.001)\n",
    "result = \",\".join(randomized)\n",
    "pyperclip.copy(result)\n",
    "result"
   ]
  },
  {
   "cell_type": "code",
   "execution_count": null,
   "metadata": {},
   "outputs": [],
   "source": []
  }
 ],
 "metadata": {
  "kernelspec": {
   "display_name": ".env",
   "language": "python",
   "name": "python3"
  },
  "language_info": {
   "codemirror_mode": {
    "name": "ipython",
    "version": 3
   },
   "file_extension": ".py",
   "mimetype": "text/x-python",
   "name": "python",
   "nbconvert_exporter": "python",
   "pygments_lexer": "ipython3",
   "version": "3.10.9"
  },
  "orig_nbformat": 4,
  "vscode": {
   "interpreter": {
    "hash": "b0bfefbc8a5d0af3883b9c7f8f73daaf193dc3919da43519cf9506ac9318e456"
   }
  }
 },
 "nbformat": 4,
 "nbformat_minor": 2
}
